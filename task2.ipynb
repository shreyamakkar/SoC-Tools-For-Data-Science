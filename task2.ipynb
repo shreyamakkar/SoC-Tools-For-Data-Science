{
  "nbformat": 4,
  "nbformat_minor": 0,
  "metadata": {
    "language_info": {
      "codemirror_mode": {
        "name": "ipython",
        "version": 3
      },
      "file_extension": ".py",
      "mimetype": "text/x-python",
      "name": "python",
      "nbconvert_exporter": "python",
      "pygments_lexer": "ipython3",
      "version": "3.8.5"
    },
    "orig_nbformat": 2,
    "kernelspec": {
      "name": "python385jvsc74a57bd0c4504d6e1d64699c5dd3f3f188e8b12f5d54044d6c840bf9e98cc6d83aeed1e3",
      "display_name": "Python 3.8.5 64-bit ('base': conda)"
    },
    "colab": {
      "name": "task2.ipynb",
      "provenance": [],
      "collapsed_sections": []
    }
  },
  "cells": [
    {
      "cell_type": "code",
      "metadata": {
        "id": "t-MwtYlP6eYw"
      },
      "source": [
        "import pandas as pd\n",
        "import sys\n",
        "import numpy as np\n",
        "from sklearn import metrics \n",
        "from sklearn.linear_model import LogisticRegression\n",
        "from sklearn.model_selection import train_test_split\n",
        "from sklearn import datasets\n",
        "iris = datasets.load_iris()"
      ],
      "execution_count": null,
      "outputs": []
    },
    {
      "cell_type": "code",
      "metadata": {
        "id": "OtpqwkPo6eZP"
      },
      "source": [
        "\n",
        "X = iris.data[:, :3] #taking first three features\n",
        "Y = iris.target\n",
        "\n",
        "X_train, X_test, Y_train, Y_test = train_test_split(X, Y, test_size=0.2, random_state=3)"
      ],
      "execution_count": null,
      "outputs": []
    },
    {
      "cell_type": "markdown",
      "metadata": {
        "id": "iPV8Xtfv6eZS"
      },
      "source": [
        "1. Attempting Logistic Regression"
      ]
    },
    {
      "cell_type": "code",
      "metadata": {
        "id": "_uLMJsFu6eZT"
      },
      "source": [
        "logistic_regression = LogisticRegression()"
      ],
      "execution_count": null,
      "outputs": []
    },
    {
      "cell_type": "code",
      "metadata": {
        "id": "VLri3UZ06eZV",
        "outputId": "ab621f75-99a6-4461-a2d5-6d3fb5feca4b"
      },
      "source": [
        "logistic_regression.fit(X_train, Y_train)\n"
      ],
      "execution_count": null,
      "outputs": [
        {
          "output_type": "execute_result",
          "data": {
            "text/plain": [
              "LogisticRegression()"
            ]
          },
          "metadata": {
            "tags": []
          },
          "execution_count": 103
        }
      ]
    },
    {
      "cell_type": "code",
      "metadata": {
        "id": "ej8y5gMz6eZZ"
      },
      "source": [
        "Y_pred = logistic_regression.predict(X_test)"
      ],
      "execution_count": null,
      "outputs": []
    },
    {
      "cell_type": "code",
      "metadata": {
        "id": "ROlKeZI76eZa",
        "outputId": "cd45bd72-14d6-4ebb-cdf8-a33858208a80"
      },
      "source": [
        "accuracy = metrics.accuracy_score(Y_test, Y_pred)\n",
        "accuracy_percentage = 100*accuracy\n",
        "accuracy_percentage"
      ],
      "execution_count": null,
      "outputs": [
        {
          "output_type": "execute_result",
          "data": {
            "text/plain": [
              "93.33333333333333"
            ]
          },
          "metadata": {
            "tags": []
          },
          "execution_count": 105
        }
      ]
    },
    {
      "cell_type": "markdown",
      "metadata": {
        "id": "q4QKAeZr6eZc"
      },
      "source": [
        "Accuracy of the Logistic Regression model is 93.33%"
      ]
    },
    {
      "cell_type": "markdown",
      "metadata": {
        "id": "KASbeT3J6eZd"
      },
      "source": [
        "2. Attempting Gaussian Naive Bayes algorithm "
      ]
    },
    {
      "cell_type": "code",
      "metadata": {
        "id": "D6PWnlcu6eZe",
        "outputId": "028d8c22-557f-4590-d8e0-f396d4814489"
      },
      "source": [
        "from sklearn.naive_bayes import GaussianNB\n",
        "gnb = GaussianNB()\n",
        "gnb.fit(X_train, Y_train)"
      ],
      "execution_count": null,
      "outputs": [
        {
          "output_type": "execute_result",
          "data": {
            "text/plain": [
              "GaussianNB()"
            ]
          },
          "metadata": {
            "tags": []
          },
          "execution_count": 106
        }
      ]
    },
    {
      "cell_type": "code",
      "metadata": {
        "id": "SpejfcZl6eZg"
      },
      "source": [
        "Y_pred = gnb.predict(X_test)"
      ],
      "execution_count": null,
      "outputs": []
    },
    {
      "cell_type": "code",
      "metadata": {
        "id": "XWByL0Xl6eZh",
        "outputId": "c80971b7-ab3a-4006-8704-6a3a35ad0f1f"
      },
      "source": [
        "from sklearn import metrics\n",
        "print(metrics.accuracy_score(Y_test, Y_pred)*100)"
      ],
      "execution_count": null,
      "outputs": [
        {
          "output_type": "stream",
          "text": [
            "86.66666666666667\n"
          ],
          "name": "stdout"
        }
      ]
    },
    {
      "cell_type": "markdown",
      "metadata": {
        "id": "nGtRXnAB6eZi"
      },
      "source": [
        "Accuracy of the Gaussian Naive Bayes algorithm is 86.66%"
      ]
    },
    {
      "cell_type": "markdown",
      "metadata": {
        "id": "g0EqJkjR6eZj"
      },
      "source": [
        "**3**.Having more features does not always guarantees to improve the accuracy.  It might lead to overfitting, which doesn't respond well to new data. Increasing the number of features can also increase the learning time. If it will learn for too long, the model will become more prone to overfitting. \n",
        "Accuracy changes when more features are used to fit the models. We will have to scale the values for the iris dataset so that total number of iterations do not reach the limit."
      ]
    },
    {
      "cell_type": "code",
      "metadata": {
        "id": "xcl32xDy6eZl"
      },
      "source": [
        "\n"
      ],
      "execution_count": null,
      "outputs": []
    }
  ]
}